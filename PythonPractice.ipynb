{
 "cells": [
  {
   "cell_type": "markdown",
   "metadata": {},
   "source": [
    "1. WAP to count how may words in a list start with a vowel."
   ]
  },
  {
   "cell_type": "code",
   "execution_count": 3,
   "metadata": {},
   "outputs": [
    {
     "name": "stdout",
     "output_type": "stream",
     "text": [
      "['manu', 'en', 'input', 'eqw', 'dsc', 'qef', 'qwdv', 'oiu', 'as', 'aqwedf']\n",
      "6\n"
     ]
    }
   ],
   "source": [
    "L=[]\n",
    "for i in range(0,10):\n",
    "    s = input(\"enter the strings>>\")\n",
    "    L.append(s)\n",
    "print(L)\n",
    "c=0\n",
    "for i in L:\n",
    "    if i[0] in \"aeiouAEIOU\":\n",
    "        c=c+1\n",
    "    else:\n",
    "        pass\n",
    "print(c)\n"
   ]
  }
 ],
 "metadata": {
  "kernelspec": {
   "display_name": "Python 3",
   "language": "python",
   "name": "python3"
  },
  "language_info": {
   "codemirror_mode": {
    "name": "ipython",
    "version": 3
   },
   "file_extension": ".py",
   "mimetype": "text/x-python",
   "name": "python",
   "nbconvert_exporter": "python",
   "pygments_lexer": "ipython3",
   "version": "3.11.9"
  }
 },
 "nbformat": 4,
 "nbformat_minor": 2
}
