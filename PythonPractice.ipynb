{
 "cells": [
  {
   "cell_type": "markdown",
   "metadata": {},
   "source": [
    "1. WAP to count how may words in a list start with a vowel."
   ]
  },
  {
   "cell_type": "code",
   "execution_count": 3,
   "metadata": {},
   "outputs": [
    {
     "name": "stdout",
     "output_type": "stream",
     "text": [
      "['manu', 'en', 'input', 'eqw', 'dsc', 'qef', 'qwdv', 'oiu', 'as', 'aqwedf']\n",
      "6\n"
     ]
    }
   ],
   "source": [
    "L=[]\n",
    "for i in range(0,10):\n",
    "    s = input(\"enter the strings>>\")\n",
    "    L.append(s)\n",
    "print(L)\n",
    "c=0\n",
    "for i in L:\n",
    "    if i[0] in \"aeiouAEIOU\":\n",
    "        c=c+1\n",
    "    else:\n",
    "        pass\n",
    "print(c)\n"
   ]
  },
  {
   "cell_type": "markdown",
   "metadata": {},
   "source": [
    "2. Write a program to replace all negative numbers in a list with zero."
   ]
  },
  {
   "cell_type": "code",
   "execution_count": 5,
   "metadata": {},
   "outputs": [
    {
     "name": "stdout",
     "output_type": "stream",
     "text": [
      "[22, -32, -32, -76, 3, 43, 2, 4, 3, 4]\n",
      "[22, 0, 0, 0, 3, 43, 2, 4, 3, 4]\n"
     ]
    }
   ],
   "source": [
    "L=[]\n",
    "for i in range(0,10):\n",
    "    s = int(input(\"enter the numbers>>\"))\n",
    "    L.append(s)\n",
    "print(L)\n",
    "for i in range(0,len(L)):\n",
    "    if L[i]<0:\n",
    "        L[i]=0\n",
    "    else:\n",
    "        pass\n",
    "print(L)"
   ]
  },
  {
   "cell_type": "markdown",
   "metadata": {},
   "source": [
    "3. WAP to find the longest word in a list of words."
   ]
  },
  {
   "cell_type": "code",
   "execution_count": 7,
   "metadata": {},
   "outputs": [
    {
     "name": "stdout",
     "output_type": "stream",
     "text": [
      "['jregtfade', 'hygdesw', 'ur', 'gtr', 'jhgf', 'ytrdsertyhjmkiu', 'hgf', 'uytr', 'hbvc', 'uyt']\n",
      "longest string is ytrdsertyhjmkiu\n"
     ]
    }
   ],
   "source": [
    "L=[]\n",
    "for i in range(0,10):\n",
    "    s = input(\"enter the words>>\")\n",
    "    L.append(s)\n",
    "print(L)\n",
    "longest = L[0]\n",
    "for i in range(1,10):\n",
    "    if len(L[i]) > len(longest):\n",
    "        longest = L[i]\n",
    "print(\"longest string is\", longest)\n",
    "\n"
   ]
  },
  {
   "cell_type": "markdown",
   "metadata": {},
   "source": [
    "4. *\n",
    "   * *\n",
    "   * * *\n",
    "   * * * *\n",
    "   * * * * * "
   ]
  },
  {
   "cell_type": "code",
   "execution_count": 8,
   "metadata": {},
   "outputs": [
    {
     "name": "stdout",
     "output_type": "stream",
     "text": [
      "*\n",
      "**\n",
      "***\n",
      "****\n",
      "*****\n"
     ]
    }
   ],
   "source": [
    "rows = 5\n",
    "for i in range(1,rows+1):\n",
    "    for j in range(i):\n",
    "        print(\"*\",end=\"\")\n",
    "    print()"
   ]
  },
  {
   "cell_type": "markdown",
   "metadata": {},
   "source": [
    "5.  WAP to generate the Fibonacci series up to N terms, where N is given by the user."
   ]
  },
  {
   "cell_type": "code",
   "execution_count": null,
   "metadata": {},
   "outputs": [
    {
     "name": "stdout",
     "output_type": "stream",
     "text": [
      "0112358132134"
     ]
    }
   ],
   "source": [
    "n = int(input(\"enter the number of terms>>\"))\n",
    "a,b=0,1\n",
    "print \n",
    "for i in range(n):\n",
    "    print(a,end=\"\")\n",
    "    a,b=b,a+b"
   ]
  },
  {
   "cell_type": "markdown",
   "metadata": {},
   "source": [
    "6. WAP to remove duplicate numbers from a list."
   ]
  },
  {
   "cell_type": "code",
   "execution_count": 11,
   "metadata": {},
   "outputs": [
    {
     "name": "stdout",
     "output_type": "stream",
     "text": [
      "[1, 3, 2, 4, 56, 43]\n"
     ]
    }
   ],
   "source": [
    "L=[1,3,2,4,2,56,2,43,3]\n",
    "unique=[]\n",
    "for i in L:\n",
    "    if i not in unique:\n",
    "        unique.append(i)\n",
    "print(unique)"
   ]
  },
  {
   "cell_type": "markdown",
   "metadata": {},
   "source": [
    "7. WAP to find the largest and smallest number in list."
   ]
  },
  {
   "cell_type": "code",
   "execution_count": 12,
   "metadata": {},
   "outputs": [
    {
     "name": "stdout",
     "output_type": "stream",
     "text": [
      "largest>> 120\n",
      "smallest>> 1\n"
     ]
    }
   ],
   "source": [
    "L=[3,3,25,1,6,5,120]\n",
    "largest=L[0]\n",
    "smallest=L[0]\n",
    "for i in L:\n",
    "    if i>largest:\n",
    "        largest=i\n",
    "    if i<smallest:\n",
    "        smallest=i\n",
    "print(\"largest>>\",largest)\n",
    "print(\"smallest>>\",smallest)"
   ]
  },
  {
   "cell_type": "markdown",
   "metadata": {},
   "source": [
    "8. WAP to count the number of even and odd numbers in a list."
   ]
  },
  {
   "cell_type": "code",
   "execution_count": 13,
   "metadata": {},
   "outputs": [
    {
     "name": "stdout",
     "output_type": "stream",
     "text": [
      "even numbers 1\n",
      "odd numbers 7\n"
     ]
    }
   ],
   "source": [
    "L=[232,3,1,3,1,67,5,7]\n",
    "even=0\n",
    "odd=0\n",
    "for i in L:\n",
    "    if i%2==0:\n",
    "        even=even+1\n",
    "    else:\n",
    "        odd=odd+1\n",
    "print(\"even numbers\",even)\n",
    "print(\"odd numbers\", odd)"
   ]
  },
  {
   "cell_type": "markdown",
   "metadata": {},
   "source": [
    "9. WAP to reverse a list without using teh reverse() function."
   ]
  },
  {
   "cell_type": "code",
   "execution_count": 14,
   "metadata": {},
   "outputs": [
    {
     "name": "stdout",
     "output_type": "stream",
     "text": [
      "[5, 2, 6, 2, 4, 2]\n"
     ]
    }
   ],
   "source": [
    "L=[2,4,2,6,2,5]\n",
    "reversed_list=[]\n",
    "for i in range(len(L)-1,-1,-1):\n",
    "    reversed_list.append(L[i])\n",
    "print(reversed_list)\n"
   ]
  }
 ],
 "metadata": {
  "kernelspec": {
   "display_name": "Python 3",
   "language": "python",
   "name": "python3"
  },
  "language_info": {
   "codemirror_mode": {
    "name": "ipython",
    "version": 3
   },
   "file_extension": ".py",
   "mimetype": "text/x-python",
   "name": "python",
   "nbconvert_exporter": "python",
   "pygments_lexer": "ipython3",
   "version": "3.11.9"
  }
 },
 "nbformat": 4,
 "nbformat_minor": 2
}
